{
 "cells": [
  {
   "cell_type": "code",
   "execution_count": 3,
   "id": "76e8a268-1007-4588-b685-dfa5fe743e81",
   "metadata": {},
   "outputs": [],
   "source": [
    "import numpy as np\n",
    "from scipy import stats\n",
    "import matplotlib.pyplot as plt"
   ]
  },
  {
   "cell_type": "code",
   "execution_count": 17,
   "id": "4ac0e532-2bdb-4f76-bb08-d206c134b4ad",
   "metadata": {},
   "outputs": [],
   "source": [
    "x = [-4,-2,0,2,4,6,8,10]\n",
    "y = [-41,-38,-35,-31,-29,-29,-24,-24]\n",
    "x = np.asarray(x)\n",
    "y = np.asarray(y)"
   ]
  },
  {
   "cell_type": "code",
   "execution_count": 18,
   "id": "fdbfc555-b89e-493b-aabb-189a0dbdf35f",
   "metadata": {},
   "outputs": [],
   "source": [
    "slope, intercept, r_value, p_value, std_err = stats.linregress(x,y)"
   ]
  },
  {
   "cell_type": "code",
   "execution_count": 19,
   "id": "8f596312-ec3f-4a2f-bb26-99aa3edae377",
   "metadata": {},
   "outputs": [],
   "source": [
    "fit = slope*x+intercept"
   ]
  },
  {
   "cell_type": "code",
   "execution_count": 21,
   "id": "51231c24-2039-4e7f-9487-62b4171c012a",
   "metadata": {},
   "outputs": [
    {
     "data": {
      "text/plain": [
       "Text(0, 0.5, 'GDD (fs)')"
      ]
     },
     "execution_count": 21,
     "metadata": {},
     "output_type": "execute_result"
    },
    {
     "data": {
      "image/png": "[encoded data removed]",
      "text/plain": [
       "<Figure size 432x288 with 1 Axes>"
      ]
     },
     "metadata": {
      "needs_background": "light"
     },
     "output_type": "display_data"
    }
   ],
   "source": [
    "plt.plot(x,y,'ro')\n",
    "plt.plot(x,fit)\n",
    "plt.xlabel('# Turns')\n",
    "plt.ylabel('GDD (fs)')"
   ]
  },
  {
   "cell_type": "code",
   "execution_count": 22,
   "id": "cc1c1db7-5722-456a-9b55-5d7da3957234",
   "metadata": {},
   "outputs": [
    {
     "data": {
      "text/plain": [
       "1.244047619047619"
      ]
     },
     "execution_count": 22,
     "metadata": {},
     "output_type": "execute_result"
    }
   ],
   "source": [
    "slope"
   ]
  },
  {
   "cell_type": "code",
   "execution_count": 23,
   "id": "2aaf19f6-2d9c-4099-85e7-2f063fa80008",
   "metadata": {},
   "outputs": [
    {
     "data": {
      "text/plain": [
       "-35.107142857142854"
      ]
     },
     "execution_count": 23,
     "metadata": {},
     "output_type": "execute_result"
    }
   ],
   "source": [
    "intercept"
   ]
  }
 ],
 "metadata": {
  "kernelspec": {
   "display_name": "Python 3",
   "language": "python",
   "name": "python3"
  },
  "language_info": {
   "codemirror_mode": {
    "name": "ipython",
    "version": 3
   },
   "file_extension": ".py",
   "mimetype": "text/x-python",
   "name": "python",
   "nbconvert_exporter": "python",
   "pygments_lexer": "ipython3",
   "version": "3.8.8"
  }
 },
 "nbformat": 4,
 "nbformat_minor": 5
}
